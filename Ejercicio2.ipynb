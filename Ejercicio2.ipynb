{
 "cells": [
  {
   "cell_type": "code",
   "execution_count": 5,
   "id": "a56842cf-62c3-4dbf-970c-7f385d5469c6",
   "metadata": {
    "tags": []
   },
   "outputs": [
    {
     "data": {
      "text/plain": [
       "[1,4,9,16,25,36,49,64,81,100]"
      ]
     },
     "metadata": {},
     "output_type": "display_data"
    }
   ],
   "source": [
    "[x*x | x <- [1..10]]"
   ]
  },
  {
   "cell_type": "code",
   "execution_count": 7,
   "id": "290de862-18d5-40de-8bbe-6c5141a8db64",
   "metadata": {
    "tags": []
   },
   "outputs": [
    {
     "data": {
      "text/plain": [
       "[3,6,9,12,15,18,21,24,27,30]"
      ]
     },
     "metadata": {},
     "output_type": "display_data"
    }
   ],
   "source": [
    "[x | x <- [1..30], mod x 3 == 0]"
   ]
  },
  {
   "cell_type": "code",
   "execution_count": 2,
   "id": "b00c8276-91e6-4522-a19e-6a1693b34234",
   "metadata": {
    "tags": []
   },
   "outputs": [
    {
     "data": {
      "text/plain": [
       "[(1,2),(1,3),(1,4),(1,5),(2,3),(2,4),(2,5),(3,4),(3,5),(4,5)]"
      ]
     },
     "metadata": {},
     "output_type": "display_data"
    }
   ],
   "source": [
    "[(x,y) | x <- [1..5], y <- [1..5], x <y]"
   ]
  },
  {
   "cell_type": "code",
   "execution_count": 4,
   "id": "24ca6663-55a7-4b71-93bf-e33e8210af94",
   "metadata": {
    "tags": []
   },
   "outputs": [
    {
     "data": {
      "text/plain": [
       "[1,3,9]"
      ]
     },
     "metadata": {},
     "output_type": "display_data"
    }
   ],
   "source": [
    "divisores :: Int -> [Int]\n",
    "divisores x = [y | y <- [1..x], mod x y == 0]\n",
    "\n",
    "divisores 9"
   ]
  },
  {
   "cell_type": "code",
   "execution_count": 1,
   "id": "7fc4c184-6a3a-4f55-8559-0a8dbcf339aa",
   "metadata": {
    "tags": []
   },
   "outputs": [
    {
     "data": {
      "text/plain": [
       "True"
      ]
     },
     "metadata": {},
     "output_type": "display_data"
    }
   ],
   "source": [
    "divisoresPropios :: Int -> [Int]\n",
    "divisoresPropios x = [y | y <- [1..x-1], mod x y == 0]\n",
    "\n",
    "esPerfecto :: Int -> Bool\n",
    "esPerfecto x = sum(divisoresPropios x) == x\n",
    "\n",
    "esPerfecto 28"
   ]
  }
 ],
 "metadata": {
  "kernelspec": {
   "display_name": "Haskell",
   "language": "haskell",
   "name": "haskell"
  },
  "language_info": {
   "codemirror_mode": "ihaskell",
   "file_extension": ".hs",
   "mimetype": "text/x-haskell",
   "name": "haskell",
   "pygments_lexer": "Haskell",
   "version": "9.6.4"
  }
 },
 "nbformat": 4,
 "nbformat_minor": 5
}
